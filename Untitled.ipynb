{
 "cells": [
  {
   "cell_type": "code",
   "execution_count": 1,
   "metadata": {},
   "outputs": [
    {
     "ename": "TypeError",
     "evalue": "'int' object is not callable",
     "output_type": "error",
     "traceback": [
      "\u001b[0;31m---------------------------------------------------------------------------\u001b[0m",
      "\u001b[0;31mTypeError\u001b[0m                                 Traceback (most recent call last)",
      "\u001b[0;32m<ipython-input-1-f28f0235e678>\u001b[0m in \u001b[0;36m<module>\u001b[0;34m\u001b[0m\n\u001b[1;32m      5\u001b[0m         \u001b[0;31m#i = i + 1\u001b[0m\u001b[0;34m\u001b[0m\u001b[0;34m\u001b[0m\u001b[0;34m\u001b[0m\u001b[0m\n\u001b[1;32m      6\u001b[0m \u001b[0;34m\u001b[0m\u001b[0m\n\u001b[0;32m----> 7\u001b[0;31m \u001b[0mtables\u001b[0m\u001b[0;34m(\u001b[0m\u001b[0;36m1\u001b[0m\u001b[0;34m,\u001b[0m\u001b[0;36m1\u001b[0m\u001b[0;34m)\u001b[0m\u001b[0;34m\u001b[0m\u001b[0;34m\u001b[0m\u001b[0m\n\u001b[0m",
      "\u001b[0;32m<ipython-input-1-f28f0235e678>\u001b[0m in \u001b[0;36mtables\u001b[0;34m(a, b)\u001b[0m\n\u001b[1;32m      1\u001b[0m \u001b[0;32mdef\u001b[0m \u001b[0mtables\u001b[0m\u001b[0;34m(\u001b[0m\u001b[0ma\u001b[0m\u001b[0;34m,\u001b[0m \u001b[0mb\u001b[0m\u001b[0;34m)\u001b[0m\u001b[0;34m:\u001b[0m\u001b[0;34m\u001b[0m\u001b[0;34m\u001b[0m\u001b[0m\n\u001b[0;32m----> 2\u001b[0;31m     \u001b[0;32mfor\u001b[0m \u001b[0mi\u001b[0m \u001b[0;32min\u001b[0m \u001b[0ma\u001b[0m\u001b[0;34m(\u001b[0m\u001b[0ma\u001b[0m\u001b[0;34m,\u001b[0m \u001b[0ma\u001b[0m\u001b[0;34m+\u001b[0m\u001b[0;36m1\u001b[0m\u001b[0;34m)\u001b[0m\u001b[0;34m:\u001b[0m\u001b[0;34m\u001b[0m\u001b[0;34m\u001b[0m\u001b[0m\n\u001b[0m\u001b[1;32m      3\u001b[0m         \u001b[0;32mfor\u001b[0m \u001b[0mz\u001b[0m \u001b[0;32min\u001b[0m \u001b[0mb\u001b[0m\u001b[0;34m(\u001b[0m\u001b[0mb\u001b[0m\u001b[0;34m,\u001b[0m \u001b[0mb\u001b[0m\u001b[0;34m+\u001b[0m\u001b[0;36m1\u001b[0m\u001b[0;34m)\u001b[0m\u001b[0;34m:\u001b[0m\u001b[0;34m\u001b[0m\u001b[0;34m\u001b[0m\u001b[0m\n\u001b[1;32m      4\u001b[0m             \u001b[0mprint\u001b[0m\u001b[0;34m(\u001b[0m\u001b[0;34mf\"{i} {z}\"\u001b[0m\u001b[0;34m)\u001b[0m\u001b[0;34m\u001b[0m\u001b[0;34m\u001b[0m\u001b[0m\n\u001b[1;32m      5\u001b[0m         \u001b[0;31m#i = i + 1\u001b[0m\u001b[0;34m\u001b[0m\u001b[0;34m\u001b[0m\u001b[0;34m\u001b[0m\u001b[0m\n",
      "\u001b[0;31mTypeError\u001b[0m: 'int' object is not callable"
     ]
    }
   ],
   "source": [
    "def tables(a, b):\n",
    "    for i in a(a, a+1):\n",
    "        for z in b(b, b+1):\n",
    "            print(f\"{i} {z}\")\n",
    "        #i = i + 1\n",
    "        \n",
    "tables(1,1)"
   ]
  },
  {
   "cell_type": "code",
   "execution_count": null,
   "metadata": {},
   "outputs": [],
   "source": [
    "def add(a, b):\n",
    "    c = a+b\n",
    "    print(c)\n",
    "add(2,3)"
   ]
  },
  {
   "cell_type": "code",
   "execution_count": null,
   "metadata": {},
   "outputs": [],
   "source": [
    "def tables(a, b):\n",
    "    for i in a:\n",
    "        print(f\"{i}\")\n",
    "        i = i +1\n",
    "        \n",
    "tables(0)"
   ]
  },
  {
   "cell_type": "code",
   "execution_count": null,
   "metadata": {},
   "outputs": [],
   "source": [
    "a = 1\n",
    "b = 5\n",
    "#z = 5\n",
    "for a in range(1, a+1):\n",
    "    if a <= b:\n",
    "        a = a +1\n",
    "#        print(f\"{a}\")\n",
    "    #while a <= b: \n",
    "        print(f\"{a}\")\n",
    "    #a = a+1\n",
    "#    for c in range(z, z+1):\n",
    "    #b = b + 1\n",
    " #       print(f\"{b} {c}\")\n"
   ]
  },
  {
   "cell_type": "code",
   "execution_count": null,
   "metadata": {},
   "outputs": [],
   "source": [
    "def tables(m, n):\n",
    "    for a in range(m, m+1):\n",
    "        for i in range(1, n+1):\n",
    "            print(f\"{a}\")\n",
    "tables(1,6)"
   ]
  },
  {
   "cell_type": "code",
   "execution_count": null,
   "metadata": {},
   "outputs": [],
   "source": [
    "a = \"J\"\n",
    "b = \"A\"\n",
    "c = \"C\"\n",
    "d = \"K\"\n",
    "print(a,b,c,d)\n",
    "print(a+b+c+d)\n",
    "\n",
    "\n",
    "number = (1,2,3,4,5)\n",
    "number1 = 1,2,3,4,5\n",
    "print(number)\n",
    "print(number1)\n"
   ]
  },
  {
   "cell_type": "code",
   "execution_count": null,
   "metadata": {},
   "outputs": [],
   "source": [
    "name = \"jack\"\n",
    "for i in name:\n",
    "    print(i)"
   ]
  },
  {
   "cell_type": "code",
   "execution_count": null,
   "metadata": {},
   "outputs": [],
   "source": [
    "number2 = [5,4,3,2,1]\n",
    "number1 = [1,2,3,4,5]\n",
    "\n",
    "for n in range(0,3):\n",
    "    print(n)"
   ]
  },
  {
   "cell_type": "code",
   "execution_count": null,
   "metadata": {},
   "outputs": [],
   "source": [
    "number2 = [5,4,3,2,1]\n",
    "\n",
    "name = \"Jack\"\n",
    "number3 = 5\n",
    "number4 = 4\n",
    "\n",
    "#number1 = [1,2,3,4,5]\n",
    "total_number = number3 * number4\n",
    "print (total_number)\n",
    "\n",
    "for n in name, number2:\n",
    "    print(n)"
   ]
  },
  {
   "cell_type": "code",
   "execution_count": null,
   "metadata": {},
   "outputs": [],
   "source": [
    "#number5 = [9,8,7,6,5]\n",
    "i = [1,2,3]\n",
    "y = (\"a\",\"b\",\"c\")\n",
    "for z in range(0,3):\n",
    "    #print(i)\n",
    "    for x in range(0,3):\n",
    "            print(y)\n",
    "        \n",
    "    #print(z, number5)\n",
    "        \n",
    "    print(i)\n"
   ]
  },
  {
   "cell_type": "code",
   "execution_count": null,
   "metadata": {},
   "outputs": [],
   "source": [
    "i = [1,2,3]\n",
    "#j = (1,2,3)\n",
    "\n",
    "y = (\"a\",\"b\",\"c\")\n",
    "for z in i:\n",
    "    print(z, i)\n",
    "    #print(j)"
   ]
  },
  {
   "cell_type": "code",
   "execution_count": null,
   "metadata": {},
   "outputs": [],
   "source": [
    "#number5 = [9,8,7,6,5]\n",
    "i = (1,2,3)\n",
    "y = (\"a\",\"b\",\"c\")\n",
    "for z in range(0,3):\n",
    "    print(i)\n",
    "    for x in range(0,3):\n",
    "            print(y)\n",
    "        \n",
    "    #print(z, number5)\n",
    "        \n",
    "#    print(i)"
   ]
  },
  {
   "cell_type": "code",
   "execution_count": null,
   "metadata": {},
   "outputs": [],
   "source": [
    "#number = int(input(\"Enter the number> \"))\n",
    "#rows = int(input(\"Enter the rows> \"))\n",
    "#columns = int(input(\"Enter the colums> \"))\n",
    "number = 1\n",
    "for i in range(1,5+1):    \n",
    "    print(f\"{number}\"*5)\n"
   ]
  },
  {
   "cell_type": "code",
   "execution_count": null,
   "metadata": {},
   "outputs": [],
   "source": [
    "number = int(input(\"Enter the number> \"))\n",
    "rows = int(input(\"Enter the rows> \"))\n",
    "columns = int(input(\"Enter the colums> \"))\n",
    "for i in range(1,rows+1):    \n",
    "    print(f\"{number}\"*columns)\n"
   ]
  },
  {
   "cell_type": "code",
   "execution_count": null,
   "metadata": {},
   "outputs": [],
   "source": [
    "number = int(input(\"Enter the number> \"))\n",
    "rows = int(input(\"Enter the rows> \"))\n",
    "columns = int(input(\"Enter the colums> \"))\n",
    "\n",
    "def table():\n",
    "    for i in range(1,rows+1):\n",
    "        print(f\"{number}\"*columns)\n",
    "table()"
   ]
  },
  {
   "cell_type": "code",
   "execution_count": null,
   "metadata": {},
   "outputs": [],
   "source": [
    "a = [1,2,3,4,5]\n",
    "for i in a:\n",
    "    print(i)"
   ]
  },
  {
   "cell_type": "code",
   "execution_count": null,
   "metadata": {},
   "outputs": [],
   "source": [
    "list = [1,2,3,4,5]\n",
    "def table2():\n",
    "    for i in list:\n",
    "        y = i*2\n",
    "        e = i*3\n",
    "        f = i*4\n",
    "        g = i*5\n",
    "        print(i,y,e,f,g)\n",
    "table2()"
   ]
  },
  {
   "cell_type": "code",
   "execution_count": null,
   "metadata": {},
   "outputs": [],
   "source": [
    "table_no = int(input(\"Enter the number> \"))\n",
    "list_app = []\n",
    "for i in range(0,table_no):\n",
    "    #print(i)\n",
    "    i = i + 1\n",
    "    list_app.append(i)\n",
    "    print(list_app)\n"
   ]
  },
  {
   "cell_type": "code",
   "execution_count": null,
   "metadata": {},
   "outputs": [],
   "source": [
    "table_no = int(input(\"Enter the number> \"))\n",
    "list_app = []\n",
    "for i in range(0,table_no):\n",
    "    i = i + 1\n",
    "    list_app.append(i)\n",
    "    \n",
    "\n",
    "list = list_app\n",
    "def table2():\n",
    "    for i in list:\n",
    "        y = i*2\n",
    "        e = i*3\n",
    "        f = i*4\n",
    "        g = i*5\n",
    "        print(i,y,e,f,g)\n",
    "table2()"
   ]
  },
  {
   "cell_type": "code",
   "execution_count": null,
   "metadata": {},
   "outputs": [],
   "source": [
    "table_no1 = int(input(\"Enter the number> \"))\n",
    "list_app1 = []\n",
    "list = list_app1\n",
    "\n",
    "def table2():\n",
    "\n",
    "    for i in range(0,table_no1):\n",
    "        i = i + 1\n",
    "        list_app1.append(i)\n",
    "    \n",
    "    for i in list:\n",
    "        #z1 = i*1\n",
    "        y1 = i*2\n",
    "        e1 = i*3\n",
    "        f1 = i*4\n",
    "        g1 = i*5\n",
    "        print(i,y1,e1,f1,g1)\n",
    "table2()"
   ]
  },
  {
   "cell_type": "code",
   "execution_count": null,
   "metadata": {},
   "outputs": [],
   "source": [
    "table_no1 = int(input(\"Enter the number> \"))\n",
    "list_app1 = []\n",
    "list = list_app1\n",
    "\n",
    "def table2():\n",
    "\n",
    "    for i in range(0,table_no1):\n",
    "        i = i + 1\n",
    "        list_app1.append(i)\n",
    "    \n",
    "    for iw in list:\n",
    "        iw = iw+1\n",
    "        \n",
    "        \n",
    "        iw = iw + 1\n",
    "        # y1 = i*2\n",
    "        # e1 = i*3\n",
    "        # f1 = i*4\n",
    "        # g1 = i*5\n",
    "        print(iw,y1,e1,f1,g1)\n",
    "table2()"
   ]
  },
  {
   "cell_type": "code",
   "execution_count": null,
   "metadata": {},
   "outputs": [],
   "source": [
    "yz = [1,2,3,4,5]\n",
    "ab = (1,2,3,4,5)\n",
    "\n",
    "for i in yz:\n",
    "    print(i)\n",
    "    \n",
    "print (\"\\n\")\n",
    "\n",
    "for j in range(1,5+1):\n",
    "    print(j)\n",
    "    "
   ]
  },
  {
   "cell_type": "code",
   "execution_count": null,
   "metadata": {},
   "outputs": [],
   "source": [
    "cd = [5,4,3,2,1]\n",
    "\n",
    "for dc in (cd[:-1]):\n",
    "    print(dc)\n",
    "\n",
    "print('\\n')\n",
    "print(cd)"
   ]
  },
  {
   "cell_type": "code",
   "execution_count": null,
   "metadata": {},
   "outputs": [],
   "source": [
    "a = [0]\n",
    "for iw in a:\n",
    "    iw = iw+1\n",
    "    print(f\"{iw}\")\n",
    "    a.append(iw)\n",
    "    if iw == 6:\n",
    "        #print(f\"{iw}\")\n",
    "        break"
   ]
  },
  {
   "cell_type": "code",
   "execution_count": null,
   "metadata": {},
   "outputs": [],
   "source": [
    "a = [0]\n",
    "for iw in a:\n",
    "    iw = iw+1\n",
    "    #print(f\"{iw}\")\n",
    "    a.append(iw)\n",
    "    print(f\"{iw}*{iw}\")\n",
    "    if iw == 6:\n",
    "        #print(f\"{iw}\")\n",
    "        break"
   ]
  },
  {
   "cell_type": "code",
   "execution_count": null,
   "metadata": {},
   "outputs": [],
   "source": [
    "table_no1 = int(input(\"Enter the number> \"))\n",
    "list_app1 = []\n",
    "list = list_app1\n",
    "a = [0]\n",
    "\n",
    "def table2():\n",
    "\n",
    "    for i in range(0,table_no1):\n",
    "        i = i + 1\n",
    "        list_app1.append(i)\n",
    "    \n",
    "    for i in list:\n",
    "        for iw in a:\n",
    "            iw = iw+1\n",
    "            a.append(iw)\n",
    "            print(f\"{iw}*{iw}\")\n",
    "            if iw == table_no1:\n",
    "                break\n",
    "    #z1 = i*1\n",
    "    #y1 = i*2\n",
    "    #e1 = i*3\n",
    "    #f1 = i*4\n",
    "    #g1 = i*5\n",
    "    #print(i,y1,e1,f1,g1)\n",
    "    print(i)\n",
    "table2()"
   ]
  },
  {
   "cell_type": "code",
   "execution_count": null,
   "metadata": {},
   "outputs": [],
   "source": [
    "biggest1=[1,2,3,4,5]\n",
    "print(len(biggest1))\n",
    "print(f\"{biggest1}\")\n",
    "print(f\"{a}\")"
   ]
  },
  {
   "cell_type": "code",
   "execution_count": null,
   "metadata": {},
   "outputs": [],
   "source": [
    "num1 = (99,32,53,14,85)\n",
    "num2 = [99,32,53,14,85]\n",
    "num3 = ([99,32,53,14,85])\n",
    "\n",
    "num4 = (num2[1:4])\n",
    "#print(num2[0:2])\n",
    "print(num2[0])\n",
    "print(num4)\n",
    "print(num3[0])\n",
    "print(num1[0])\n",
    "\n",
    "#print(num4)"
   ]
  },
  {
   "cell_type": "code",
   "execution_count": null,
   "metadata": {},
   "outputs": [],
   "source": [
    "#use .join\n",
    "#for _ in range(n) if you are note using the variable\n",
    "\"\"\"\n",
    "def tables(n):\n",
    "    for i in range(n):\n",
    "        row = []\n",
    "        for j in range(n):\n",
    "        q = '.'\n",
    "        row.append(q)\n",
    "    print(' '.join(row))\n",
    "    \n",
    "        \n",
    "        \n",
    "        \n",
    "        \n",
    "\"\"\"\n",
    "\n",
    "numbers = ([1,5,9,20,7,-5,23,4,12])\n",
    "#print(len(numbers))\n",
    "\n",
    "n1 = numbers[0]\n",
    "n2 = numbers[1]\n",
    "for ni in range(1,len(numbers)+1):\n",
    "    \n",
    "    if n1 >= n2:\n",
    "        n1 = n1\n",
    "    else:\n",
    "        n1 = n2\n",
    "    \n",
    "    #ni = ni+1\n",
    "    \n",
    "#print (ni)\n",
    "        \n",
    "\n",
    "#print(n1,n2)"
   ]
  },
  {
   "cell_type": "code",
   "execution_count": null,
   "metadata": {},
   "outputs": [],
   "source": [
    "y5 = (1,2,3,4,5,6,7)\n",
    "print(y5[0:3])\n",
    "len(y5)"
   ]
  },
  {
   "cell_type": "code",
   "execution_count": null,
   "metadata": {},
   "outputs": [],
   "source": [
    "y1 = [1,2,3,4]\n",
    "print(y1[0:4])\n",
    "len(y1)"
   ]
  },
  {
   "cell_type": "code",
   "execution_count": null,
   "metadata": {},
   "outputs": [],
   "source": [
    "y6 = [1,2,3,4,5]\n",
    "for i in range(0,5+1):\n",
    "    print (i)\n",
    "len(y6)    "
   ]
  },
  {
   "cell_type": "code",
   "execution_count": null,
   "metadata": {},
   "outputs": [],
   "source": [
    "list is mutable\n",
    "tuple is immutable"
   ]
  },
  {
   "cell_type": "code",
   "execution_count": null,
   "metadata": {},
   "outputs": [],
   "source": [
    "\"The quick brown fox jumps over the lazy dog\" #==> True\n",
    "\"The quick brown fox jumped over the lazy dog\" #==> False\n",
    "\n",
    "#a = \"James\"\n",
    "#'x' in a\n",
    "#'x' not in a\n",
    "\n",
    "#a = \"The quick brown fox jumps over the lazy dog\"\n",
    "#b = \"The quick brown fox jumped over the lazy dog\"\n",
    "\n",
    "a = input(\"input the letter> \")\n",
    "\n",
    "def panagram():\n",
    "   \n",
    "    for i in a:\n",
    "        if i == 's':\n",
    "            print(\"True\")\n",
    "        else:\n",
    "            print(\"False\")\n",
    "panagram()"
   ]
  },
  {
   "cell_type": "code",
   "execution_count": null,
   "metadata": {},
   "outputs": [],
   "source": [
    "def panagram():   \n",
    "    if a == b:\n",
    "        print(\"True\")\n",
    "    else:\n",
    "        print(\"False\")\n",
    "\n",
    "panagram(\"the quick brown fox jumps over the lazy dog\") # > True\n",
    "panagram(\"the quick brown fox jumped over the lazy dog\") # > False\n",
    "\n"
   ]
  },
  {
   "cell_type": "code",
   "execution_count": null,
   "metadata": {},
   "outputs": [],
   "source": [
    "a = \"James\"\n",
    "#'e' in a\n",
    "'J' not in a\n"
   ]
  },
  {
   "cell_type": "code",
   "execution_count": null,
   "metadata": {},
   "outputs": [],
   "source": [
    "a = 'a' to 'z'\n",
    "for i in a:\n",
    "    print(i)"
   ]
  },
  {
   "cell_type": "code",
   "execution_count": null,
   "metadata": {},
   "outputs": [],
   "source": [
    "for code in range(ord('a'), ord('z') + 1):\n",
    "    print (chr(code))\n",
    "\n",
    "    "
   ]
  },
  {
   "cell_type": "code",
   "execution_count": null,
   "metadata": {},
   "outputs": [],
   "source": [
    "for i in range(97,122):\n",
    "    print(chr(i))"
   ]
  },
  {
   "cell_type": "code",
   "execution_count": 9,
   "metadata": {},
   "outputs": [
    {
     "name": "stdout",
     "output_type": "stream",
     "text": [
      "(1, 2, 3, 4, 5, 6, 7, 8, 9, 0)\n",
      "(1, 2, 3, 4, 5, 6, 7, 8, 9, 0)\n"
     ]
    }
   ],
   "source": [
    "a = (1,2,3,4,5,6,7,8,9,0)\n",
    "#print(len(a))\n",
    "\n",
    "for i in range():\n",
    "    print(a)\n",
    "#    a = a+1"
   ]
  },
  {
   "cell_type": "code",
   "execution_count": 5,
   "metadata": {},
   "outputs": [
    {
     "name": "stdout",
     "output_type": "stream",
     "text": [
      "['a', 'b', 'c', 'd']\n",
      "4\n"
     ]
    }
   ],
   "source": [
    "things = ['a','b','c','d']\n",
    "print(things[0:])\n",
    "print(len(things))"
   ]
  },
  {
   "cell_type": "code",
   "execution_count": 13,
   "metadata": {},
   "outputs": [
    {
     "ename": "NameError",
     "evalue": "name 'split' is not defined",
     "output_type": "error",
     "traceback": [
      "\u001b[0;31m---------------------------------------------------------------------------\u001b[0m",
      "\u001b[0;31mNameError\u001b[0m                                 Traceback (most recent call last)",
      "\u001b[0;32m<ipython-input-13-2d6b858f6629>\u001b[0m in \u001b[0;36m<module>\u001b[0;34m\u001b[0m\n\u001b[1;32m      1\u001b[0m \u001b[0mthings\u001b[0m \u001b[0;34m=\u001b[0m \u001b[0;34m'six sick sheep'\u001b[0m\u001b[0;34m\u001b[0m\u001b[0;34m\u001b[0m\u001b[0m\n\u001b[0;32m----> 2\u001b[0;31m \u001b[0mprint\u001b[0m\u001b[0;34m(\u001b[0m\u001b[0msplit\u001b[0m\u001b[0;34m(\u001b[0m\u001b[0mthings\u001b[0m\u001b[0;34m)\u001b[0m\u001b[0;34m)\u001b[0m\u001b[0;34m\u001b[0m\u001b[0;34m\u001b[0m\u001b[0m\n\u001b[0m",
      "\u001b[0;31mNameError\u001b[0m: name 'split' is not defined"
     ]
    }
   ],
   "source": [
    "things = 'six sick sheep'\n",
    "print(split(things))"
   ]
  },
  {
   "cell_type": "code",
   "execution_count": null,
   "metadata": {},
   "outputs": [],
   "source": []
  }
 ],
 "metadata": {
  "kernelspec": {
   "display_name": "Python 3",
   "language": "python",
   "name": "python3"
  },
  "language_info": {
   "codemirror_mode": {
    "name": "ipython",
    "version": 3
   },
   "file_extension": ".py",
   "mimetype": "text/x-python",
   "name": "python",
   "nbconvert_exporter": "python",
   "pygments_lexer": "ipython3",
   "version": "3.7.2"
  }
 },
 "nbformat": 4,
 "nbformat_minor": 2
}
